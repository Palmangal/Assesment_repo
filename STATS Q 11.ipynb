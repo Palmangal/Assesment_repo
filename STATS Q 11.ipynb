{
 "cells": [
  {
   "cell_type": "code",
   "execution_count": 1,
   "id": "8eacbfe3",
   "metadata": {},
   "outputs": [],
   "source": [
    "import pandas as pd\n",
    "import matplotlib.pyplot as plt\n",
    "from scipy.stats import shapiro, levene, ttest_rel, f_oneway"
   ]
  },
  {
   "cell_type": "code",
   "execution_count": 3,
   "id": "408bf2ec",
   "metadata": {},
   "outputs": [],
   "source": [
    "data = pd.read_csv('https://drive.google.com/uc?id=1mCjtYHiX--mMUjicuaP2gH3k-SnFxt8Y')\n"
   ]
  },
  {
   "cell_type": "code",
   "execution_count": 4,
   "id": "9fcb6109",
   "metadata": {},
   "outputs": [
    {
     "data": {
      "text/html": [
       "<div>\n",
       "<style scoped>\n",
       "    .dataframe tbody tr th:only-of-type {\n",
       "        vertical-align: middle;\n",
       "    }\n",
       "\n",
       "    .dataframe tbody tr th {\n",
       "        vertical-align: top;\n",
       "    }\n",
       "\n",
       "    .dataframe thead th {\n",
       "        text-align: right;\n",
       "    }\n",
       "</style>\n",
       "<table border=\"1\" class=\"dataframe\">\n",
       "  <thead>\n",
       "    <tr style=\"text-align: right;\">\n",
       "      <th></th>\n",
       "      <th>Patient ID</th>\n",
       "      <th>Blood Pressure Before (mmHg)</th>\n",
       "      <th>Blood Pressure After (mmHg)</th>\n",
       "    </tr>\n",
       "  </thead>\n",
       "  <tbody>\n",
       "    <tr>\n",
       "      <th>0</th>\n",
       "      <td>1</td>\n",
       "      <td>130</td>\n",
       "      <td>120</td>\n",
       "    </tr>\n",
       "    <tr>\n",
       "      <th>1</th>\n",
       "      <td>2</td>\n",
       "      <td>142</td>\n",
       "      <td>135</td>\n",
       "    </tr>\n",
       "    <tr>\n",
       "      <th>2</th>\n",
       "      <td>3</td>\n",
       "      <td>120</td>\n",
       "      <td>118</td>\n",
       "    </tr>\n",
       "    <tr>\n",
       "      <th>3</th>\n",
       "      <td>4</td>\n",
       "      <td>135</td>\n",
       "      <td>127</td>\n",
       "    </tr>\n",
       "    <tr>\n",
       "      <th>4</th>\n",
       "      <td>5</td>\n",
       "      <td>148</td>\n",
       "      <td>140</td>\n",
       "    </tr>\n",
       "  </tbody>\n",
       "</table>\n",
       "</div>"
      ],
      "text/plain": [
       "   Patient ID   Blood Pressure Before (mmHg)   Blood Pressure After (mmHg)\n",
       "0           1                            130                           120\n",
       "1           2                            142                           135\n",
       "2           3                            120                           118\n",
       "3           4                            135                           127\n",
       "4           5                            148                           140"
      ]
     },
     "execution_count": 4,
     "metadata": {},
     "output_type": "execute_result"
    }
   ],
   "source": [
    "data.head()"
   ]
  },
  {
   "cell_type": "code",
   "execution_count": 6,
   "id": "ed28d60a",
   "metadata": {},
   "outputs": [],
   "source": [
    "data.columns = data.columns.str.strip()\n",
    "\n",
    "bp_before = data['Blood Pressure Before (mmHg)']\n",
    "bp_after = data['Blood Pressure After (mmHg)']\n"
   ]
  },
  {
   "cell_type": "code",
   "execution_count": 7,
   "id": "79f136f8",
   "metadata": {},
   "outputs": [
    {
     "data": {
      "image/png": "[encoded data removed]",
      "text/plain": [
       "<Figure size 640x480 with 1 Axes>"
      ]
     },
     "metadata": {},
     "output_type": "display_data"
    }
   ],
   "source": [
    "plt.hist(bp_before, alpha=0.5, label='Blood Pressure Before')\n",
    "plt.hist(bp_after, alpha=0.5, label='Blood Pressure After')\n",
    "plt.xlabel('Blood Pressure (mmHg)')\n",
    "plt.ylabel('Frequency')\n",
    "plt.title('Distribution of Blood Pressure Before and After')\n",
    "plt.legend()\n",
    "plt.show()\n"
   ]
  },
  {
   "cell_type": "code",
   "execution_count": 8,
   "id": "90a91b2a",
   "metadata": {},
   "outputs": [
    {
     "name": "stdout",
     "output_type": "stream",
     "text": [
      "Shapiro-Wilk Test p-values:\n",
      "Blood Pressure Before: 0.002603276167064905\n",
      "Blood Pressure After: 0.00019430516113061458\n"
     ]
    }
   ],
   "source": [
    "_, p_before = shapiro(bp_before)\n",
    "_, p_after = shapiro(bp_after)\n",
    "print('Shapiro-Wilk Test p-values:')\n",
    "print('Blood Pressure Before:', p_before)\n",
    "print('Blood Pressure After:', p_after)"
   ]
  },
  {
   "cell_type": "code",
   "execution_count": 9,
   "id": "46d9ab2d",
   "metadata": {},
   "outputs": [
    {
     "name": "stdout",
     "output_type": "stream",
     "text": [
      "Levene's Test p-value: 0.6715080090945376\n"
     ]
    }
   ],
   "source": [
    "\n",
    "_, p_var = levene(bp_before, bp_after)\n",
    "print('Levene\\'s Test p-value:', p_var)"
   ]
  },
  {
   "cell_type": "code",
   "execution_count": 11,
   "id": "18e20a87",
   "metadata": {},
   "outputs": [
    {
     "name": "stdout",
     "output_type": "stream",
     "text": [
      "Paired t-test p-value: 2.817165090364283e-61\n"
     ]
    }
   ],
   "source": [
    "_, p_mean = ttest_rel(bp_before, bp_after)\n",
    "print('Paired t-test p-value:', p_mean)\n"
   ]
  },
  {
   "cell_type": "code",
   "execution_count": 12,
   "id": "b33b1500",
   "metadata": {},
   "outputs": [
    {
     "name": "stdout",
     "output_type": "stream",
     "text": [
      "One-way ANOVA p-value: 2.3565868442707578e-08\n"
     ]
    }
   ],
   "source": [
    "_, p_anova = f_oneway(bp_before, bp_after)\n",
    "print('One-way ANOVA p-value:', p_anova)\n"
   ]
  },
  {
   "cell_type": "code",
   "execution_count": null,
   "id": "1d5e36e4",
   "metadata": {},
   "outputs": [],
   "source": []
  }
 ],
 "metadata": {
  "kernelspec": {
   "display_name": "Python 3 (ipykernel)",
   "language": "python",
   "name": "python3"
  },
  "language_info": {
   "codemirror_mode": {
    "name": "ipython",
    "version": 3
   },
   "file_extension": ".py",
   "mimetype": "text/x-python",
   "name": "python",
   "nbconvert_exporter": "python",
   "pygments_lexer": "ipython3",
   "version": "3.10.9"
  }
 },
 "nbformat": 4,
 "nbformat_minor": 5
}
