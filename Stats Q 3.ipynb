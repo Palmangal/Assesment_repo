{
 "cells": [
  {
   "cell_type": "code",
   "execution_count": 26,
   "id": "6370882c",
   "metadata": {},
   "outputs": [],
   "source": [
    "import pandas as pd\n",
    "import numpy as np\n",
    "import matplotlib.pyplot as plt\n",
    "from scipy.stats import t"
   ]
  },
  {
   "cell_type": "code",
   "execution_count": 30,
   "id": "249f9f07",
   "metadata": {},
   "outputs": [],
   "source": [
    "df = pd.read_csv('https://drive.google.com/uc?id=1mCjtYHiX--mMUjicuaP2gH3k-SnFxt8Y')"
   ]
  },
  {
   "cell_type": "code",
   "execution_count": 31,
   "id": "a116f10d",
   "metadata": {},
   "outputs": [
    {
     "data": {
      "text/html": [
       "<div>\n",
       "<style scoped>\n",
       "    .dataframe tbody tr th:only-of-type {\n",
       "        vertical-align: middle;\n",
       "    }\n",
       "\n",
       "    .dataframe tbody tr th {\n",
       "        vertical-align: top;\n",
       "    }\n",
       "\n",
       "    .dataframe thead th {\n",
       "        text-align: right;\n",
       "    }\n",
       "</style>\n",
       "<table border=\"1\" class=\"dataframe\">\n",
       "  <thead>\n",
       "    <tr style=\"text-align: right;\">\n",
       "      <th></th>\n",
       "      <th>Patient ID</th>\n",
       "      <th>Blood Pressure Before (mmHg)</th>\n",
       "      <th>Blood Pressure After (mmHg)</th>\n",
       "    </tr>\n",
       "  </thead>\n",
       "  <tbody>\n",
       "    <tr>\n",
       "      <th>0</th>\n",
       "      <td>1</td>\n",
       "      <td>130</td>\n",
       "      <td>120</td>\n",
       "    </tr>\n",
       "    <tr>\n",
       "      <th>1</th>\n",
       "      <td>2</td>\n",
       "      <td>142</td>\n",
       "      <td>135</td>\n",
       "    </tr>\n",
       "    <tr>\n",
       "      <th>2</th>\n",
       "      <td>3</td>\n",
       "      <td>120</td>\n",
       "      <td>118</td>\n",
       "    </tr>\n",
       "    <tr>\n",
       "      <th>3</th>\n",
       "      <td>4</td>\n",
       "      <td>135</td>\n",
       "      <td>127</td>\n",
       "    </tr>\n",
       "    <tr>\n",
       "      <th>4</th>\n",
       "      <td>5</td>\n",
       "      <td>148</td>\n",
       "      <td>140</td>\n",
       "    </tr>\n",
       "  </tbody>\n",
       "</table>\n",
       "</div>"
      ],
      "text/plain": [
       "   Patient ID   Blood Pressure Before (mmHg)   Blood Pressure After (mmHg)\n",
       "0           1                            130                           120\n",
       "1           2                            142                           135\n",
       "2           3                            120                           118\n",
       "3           4                            135                           127\n",
       "4           5                            148                           140"
      ]
     },
     "execution_count": 31,
     "metadata": {},
     "output_type": "execute_result"
    }
   ],
   "source": [
    "df.head()"
   ]
  },
  {
   "cell_type": "code",
   "execution_count": 33,
   "id": "14ba6ee9",
   "metadata": {},
   "outputs": [],
   "source": [
    "df.columns = df.columns.str.strip()\n",
    "bp_before = df['Blood Pressure Before (mmHg)']\n",
    "bp_after = df['Blood Pressure After (mmHg)']\n"
   ]
  },
  {
   "cell_type": "code",
   "execution_count": 36,
   "id": "c0db0932",
   "metadata": {},
   "outputs": [],
   "source": [
    "# a. Dispersion\n",
    "range_before = np.max(bp_before) - np.min(bp_before)\n",
    "range_after= np.max(bp_after) - np.min(bp_after)\n",
    "\n",
    "std_dev_before = np.std(bp_before)\n",
    "std_dev_after = np.std(bp_after)"
   ]
  },
  {
   "cell_type": "code",
   "execution_count": 37,
   "id": "787aea77",
   "metadata": {},
   "outputs": [
    {
     "name": "stdout",
     "output_type": "stream",
     "text": [
      "Dispersion : \n",
      "Blood Pressure Before - Range 28\n",
      "Blood Pressure Before - Standard Deviation 6.5652037287505385\n",
      "Blood Pressure after - Range 23\n",
      "Blood Pressure after - Standard Deviation 6.853495458523338\n"
     ]
    }
   ],
   "source": [
    "print(\"Dispersion : \")\n",
    "print(\"Blood Pressure Before - Range\" , range_before)\n",
    "print(\"Blood Pressure Before - Standard Deviation\" , std_dev_before)\n",
    "print(\"Blood Pressure after - Range\" , range_after)\n",
    "print(\"Blood Pressure after - Standard Deviation\" , std_dev_after)\n"
   ]
  },
  {
   "cell_type": "code",
   "execution_count": 38,
   "id": "6384bb02",
   "metadata": {},
   "outputs": [],
   "source": [
    "# b. Calculate mean and 5% confidence interval and plot it\n",
    "mean_before = np.mean(bp_before)\n",
    "mean_after = np.mean(bp_after)\n",
    "\n",
    "n = len(data)\n",
    "se_before = std_dev_before / np.sqrt(n)\n",
    "se_after = std_dev_after / np.sqrt(n)"
   ]
  },
  {
   "cell_type": "code",
   "execution_count": 39,
   "id": "fa04623f",
   "metadata": {},
   "outputs": [],
   "source": [
    "t_critical = t.ppf(0.975, df=n-1)"
   ]
  },
  {
   "cell_type": "code",
   "execution_count": 40,
   "id": "bb0edd06",
   "metadata": {},
   "outputs": [],
   "source": [
    "ci_before = (mean_before - t_critical * se_before, mean_before + t_critical * se_before)\n",
    "ci_after = (mean_after - t_critical * se_after, mean_after + t_critical * se_after)\n"
   ]
  },
  {
   "cell_type": "code",
   "execution_count": 41,
   "id": "1fd23901",
   "metadata": {},
   "outputs": [
    {
     "name": "stdout",
     "output_type": "stream",
     "text": [
      "\n",
      "Mean and Confidence Interval (95%):\n",
      "Blood Pressure Before - Mean: 133.91\n",
      "Blood Pressure Before - Confidence Interval: (132.71821029851785, 135.10178970148215)\n",
      "Blood Pressure After - Mean: 128.36\n",
      "Blood Pressure After - Confidence Interval: (127.11587633772074, 129.6041236622793)\n"
     ]
    }
   ],
   "source": [
    "print(\"\\nMean and Confidence Interval (95%):\")\n",
    "print(\"Blood Pressure Before - Mean:\", mean_before)\n",
    "print(\"Blood Pressure Before - Confidence Interval:\", ci_before)\n",
    "print(\"Blood Pressure After - Mean:\", mean_after)\n",
    "print(\"Blood Pressure After - Confidence Interval:\", ci_after)"
   ]
  },
  {
   "cell_type": "code",
   "execution_count": 42,
   "id": "d70946ec",
   "metadata": {},
   "outputs": [],
   "source": [
    "# Plotting\n",
    "labels = ['Blood Pressure Before', 'Blood Pressure After']\n",
    "means = [mean_before, mean_after]\n",
    "cis = [ci_before, ci_after]\n"
   ]
  },
  {
   "cell_type": "code",
   "execution_count": 43,
   "id": "38b0af94",
   "metadata": {},
   "outputs": [],
   "source": [
    "x = np.arange(len(labels))\n",
    "width = 0.35\n"
   ]
  },
  {
   "cell_type": "code",
   "execution_count": 44,
   "id": "0e2bfdef",
   "metadata": {},
   "outputs": [
    {
     "data": {
      "image/png": "[encoded data removed]",
      "text/plain": [
       "<Figure size 640x480 with 1 Axes>"
      ]
     },
     "metadata": {},
     "output_type": "display_data"
    }
   ],
   "source": [
    "fig, ax = plt.subplots()\n",
    "rects1 = ax.bar(x - width/2, means, width, label='Mean')\n",
    "rects2 = ax.bar(x + width/2, [ci[1] - ci[0] for ci in cis], width, label='Confidence Interval')\n",
    "\n",
    "ax.set_ylabel('Blood Pressure (mmHg)')\n",
    "ax.set_title('Mean and Confidence Interval of Blood Pressure')\n",
    "ax.set_xticks(x)\n",
    "ax.set_xticklabels(labels)\n",
    "ax.legend()\n",
    "\n",
    "fig.tight_layout()\n",
    "plt.show()"
   ]
  },
  {
   "cell_type": "code",
   "execution_count": 45,
   "id": "292972c4",
   "metadata": {},
   "outputs": [],
   "source": [
    "mad_before = np.mean(np.abs(bp_before - mean_before))\n",
    "mad_after = np.mean(np.abs(bp_after - mean_after))"
   ]
  },
  {
   "cell_type": "code",
   "execution_count": 46,
   "id": "2024076a",
   "metadata": {},
   "outputs": [
    {
     "name": "stdout",
     "output_type": "stream",
     "text": [
      "\n",
      "Mean Absolute Deviation (MAD) and Standard Deviation (SD):\n",
      "Blood Pressure Before - MAD: 5.7118\n",
      "Blood Pressure Before - Standard Deviation: 6.5652037287505385\n",
      "Blood Pressure After - MAD: 5.9\n",
      "Blood Pressure After - Standard Deviation: 6.853495458523338\n"
     ]
    }
   ],
   "source": [
    "print(\"\\nMean Absolute Deviation (MAD) and Standard Deviation (SD):\")\n",
    "print(\"Blood Pressure Before - MAD:\", mad_before)\n",
    "print(\"Blood Pressure Before - Standard Deviation:\", std_dev_before)\n",
    "print(\"Blood Pressure After - MAD:\", mad_after)\n",
    "print(\"Blood Pressure After - Standard Deviation:\", std_dev_after)"
   ]
  },
  {
   "cell_type": "code",
   "execution_count": 48,
   "id": "0e5b28b0",
   "metadata": {},
   "outputs": [],
   "source": [
    "# d. Calculate the correlation coefficient and check significance at 1% level\n",
    "correlation_coefficient = np.corrcoef(bp_before, bp_after)[0, 1]\n",
    "degrees_of_freedom = n - 2\n",
    "\n",
    "\n",
    "t_critical_1p = t.ppf(0.995, df=degrees_of_freedom)\n",
    "\n",
    "\n",
    "se_corr_coeff = 1 / np.sqrt(degrees_of_freedom)\n",
    "\n",
    "t_statistic = correlation_coefficient / se_corr_coeff\n",
    "\n",
    "\n",
    "is_significant = np.abs(t_statistic) > t_critical_1p"
   ]
  },
  {
   "cell_type": "code",
   "execution_count": 50,
   "id": "3274d441",
   "metadata": {},
   "outputs": [
    {
     "name": "stdout",
     "output_type": "stream",
     "text": [
      "\n",
      "Correlation Coefficient:\n",
      "Correlation Coefficient: 0.9779485966556016\n",
      "Significance at 1% level: True\n"
     ]
    }
   ],
   "source": [
    "print(\"\\nCorrelation Coefficient:\")\n",
    "print(\"Correlation Coefficient:\", correlation_coefficient)\n",
    "print(\"Significance at 1% level:\", is_significant)\n"
   ]
  },
  {
   "cell_type": "code",
   "execution_count": null,
   "id": "43f2b7c2",
   "metadata": {},
   "outputs": [],
   "source": []
  }
 ],
 "metadata": {
  "kernelspec": {
   "display_name": "Python 3 (ipykernel)",
   "language": "python",
   "name": "python3"
  },
  "language_info": {
   "codemirror_mode": {
    "name": "ipython",
    "version": 3
   },
   "file_extension": ".py",
   "mimetype": "text/x-python",
   "name": "python",
   "nbconvert_exporter": "python",
   "pygments_lexer": "ipython3",
   "version": "3.10.9"
  }
 },
 "nbformat": 4,
 "nbformat_minor": 5
}
