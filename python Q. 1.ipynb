{
 "cells": [
  {
   "cell_type": "code",
   "execution_count": 48,
   "id": "2dc32cc0",
   "metadata": {},
   "outputs": [],
   "source": [
    "def find_highest_freq_length(string):\n",
    "    # Split the string into individual words\n",
    "    words = string.split()\n",
    "    \n",
    "\n",
    "    # Count the frequency of each word\n",
    "    word_count = {}\n",
    "    for word in words:\n",
    "        word_count[word] = word_count.get(word, 0) + 1\n",
    "        #print(word_count)\n",
    "\n",
    "    # Find the highest frequency\n",
    "    highest_frequency = max(word_count.values())\n",
    "    #print(highest_frequency)\n",
    "\n",
    "    # Find the length of the highest-frequency word\\\n",
    "    highest_frequency_length =[]\n",
    "    for word, count in word_count.items():\n",
    "        if count == highest_frequency:\n",
    "            highest_frequency_length.append(len(word))\n",
    "            #print(highest_frequency_length)\n",
    "            \n",
    "            \n",
    "    frequency_length = max(highest_frequency_length)        \n",
    "    \n",
    "    \n",
    "\n",
    "    return frequency_length"
   ]
  },
  {
   "cell_type": "code",
   "execution_count": 49,
   "id": "a2bec278",
   "metadata": {},
   "outputs": [
    {
     "name": "stdout",
     "output_type": "stream",
     "text": [
      "Enter a string: write write write all the number from from from 1 to 100\n",
      "Length of the highest-frequency word: 5\n"
     ]
    }
   ],
   "source": [
    "input_string = input(\"Enter a string: \")\n",
    "result = find_highest_freq_length(input_string)\n",
    "print(\"Length of the highest-frequency word:\", result)"
   ]
  },
  {
   "cell_type": "code",
   "execution_count": null,
   "id": "0594de11",
   "metadata": {},
   "outputs": [],
   "source": []
  }
 ],
 "metadata": {
  "kernelspec": {
   "display_name": "Python 3 (ipykernel)",
   "language": "python",
   "name": "python3"
  },
  "language_info": {
   "codemirror_mode": {
    "name": "ipython",
    "version": 3
   },
   "file_extension": ".py",
   "mimetype": "text/x-python",
   "name": "python",
   "nbconvert_exporter": "python",
   "pygments_lexer": "ipython3",
   "version": "3.10.9"
  }
 },
 "nbformat": 4,
 "nbformat_minor": 5
}
