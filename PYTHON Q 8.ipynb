{
 "cells": [
  {
   "cell_type": "code",
   "execution_count": 27,
   "id": "b95af6cf",
   "metadata": {},
   "outputs": [
    {
     "data": {
      "text/plain": [
       "'\\n ● Get all the overall ratings for each season and using plots compare the ratings for all the seasons, like season 1 ratings, season 2, and so on. \\n● Get all the episode names, whose average rating is more than 8 for every season \\n● Get all the episode names that aired before May 2019\\n ● Get the episode name from each season with the highest and lowest rating \\n● Get the summary for the most popular ( ratings ) episode in every season\\n\\n'"
      ]
     },
     "execution_count": 27,
     "metadata": {},
     "output_type": "execute_result"
    }
   ],
   "source": [
    "\"\"\"\n",
    " ● Get all the overall ratings for each season and using plots compare the ratings for all the seasons, like season 1 ratings, season 2, and so on. \n",
    "● Get all the episode names, whose average rating is more than 8 for every season \n",
    "● Get all the episode names that aired before May 2019\n",
    " ● Get the episode name from each season with the highest and lowest rating \n",
    "● Get the summary for the most popular ( ratings ) episode in every season\n",
    "\n",
    "\"\"\""
   ]
  },
  {
   "cell_type": "code",
   "execution_count": 28,
   "id": "289ae22a",
   "metadata": {},
   "outputs": [],
   "source": [
    "import requests\n",
    "import matplotlib.pyplot as plt\n"
   ]
  },
  {
   "cell_type": "code",
   "execution_count": 29,
   "id": "88754320",
   "metadata": {},
   "outputs": [],
   "source": [
    "response = requests.get(\"http://api.tvmaze.com/singlesearch/shows?q=westworld&embed=episodes\")\n",
    "data = response.json()"
   ]
  },
  {
   "cell_type": "code",
   "execution_count": 30,
   "id": "37e6e482",
   "metadata": {},
   "outputs": [],
   "source": [
    "# Initialize dictionaries and lists to store the required data for analysis\n",
    "season_ratings = {}\n",
    "episode_names_high_ratings = {}\n",
    "episode_names_before_2019 = []\n",
    "highest_rated_episodes = {}\n",
    "lowest_rated_episodes = {}\n",
    "most_popular_summary_per_season = {}"
   ]
  },
  {
   "cell_type": "code",
   "execution_count": 31,
   "id": "6a181038",
   "metadata": {},
   "outputs": [
    {
     "name": "stdout",
     "output_type": "stream",
     "text": [
      "Overall ratings for each season:\n",
      "Season 1 : [8, 7.7, 7.6, 7.9, 8, 8, 8.6, 7.9, 8.5, 8.7]\n",
      "Season 2 : [7.8, 7.7, 7.7, 8, 7.6, 7.7, 7.9, 8.7, 8.4, 8.5]\n",
      "Season 3 : [8, 7.8, 7.8, 8, 7.9, 7.5, 7.5, 7.7]\n",
      "Season 4 : [7.1, 7.4, 7.6, 7.7, 7.8, 7.5, 7.7, 7.5]\n"
     ]
    }
   ],
   "source": [
    "for episode in data['_embedded']['episodes']:\n",
    "    season = episode['season']\n",
    "    rating = episode['rating']['average']\n",
    "    \n",
    "    if season in season_ratings:\n",
    "        season_ratings[season].append(rating)\n",
    "    else:\n",
    "        season_ratings[season] = [rating]\n",
    "        \n",
    "        \n",
    "print(\"Overall ratings for each season:\")\n",
    "for season, ratings in season_ratings.items():\n",
    "    print(\"Season\", season, \":\", ratings)        "
   ]
  },
  {
   "cell_type": "code",
   "execution_count": 32,
   "id": "2a4ca4f1",
   "metadata": {},
   "outputs": [
    {
     "data": {
      "image/png": "[encoded data removed]",
      "text/plain": [
       "<Figure size 640x480 with 1 Axes>"
      ]
     },
     "metadata": {},
     "output_type": "display_data"
    }
   ],
   "source": [
    "seasons = sorted(season_ratings.keys())\n",
    "ratings = [season_ratings[season] for season in seasons]\n",
    "\n",
    "plt.boxplot(ratings, labels=seasons)\n",
    "plt.xlabel('Season')\n",
    "plt.ylabel('Rating')\n",
    "plt.title('Ratings for Each Season')\n",
    "plt.show()"
   ]
  },
  {
   "cell_type": "code",
   "execution_count": 33,
   "id": "422d1c6d",
   "metadata": {},
   "outputs": [
    {
     "name": "stdout",
     "output_type": "stream",
     "text": [
      "season 1 \n",
      "Trompe L'Oeil\n",
      "The Well-Tempered Clavier\n",
      "The Bicameral Mind\n",
      "\n",
      "season 2 \n",
      "Kiksuya\n",
      "Vanishing Point\n",
      "The Passenger\n",
      "\n",
      "season 3 \n",
      "\n",
      "season 4 \n",
      "\n"
     ]
    }
   ],
   "source": [
    "#● Get all the episode names, whose average rating is more than 8 for every season\n",
    "episode_names_high_ratings = {}\n",
    "for season in season_ratings:\n",
    "    ratings = season_ratings[season]\n",
    "    avg_rating = sum(ratings)/len(ratings)\n",
    "    episode_names_high_ratings[season] = [episode['name'] for episode in data['_embedded']['episodes'] if\n",
    "                                   episode['season'] == season and float(episode['rating']['average']) > 8]\n",
    "   # if season['ratings']\n",
    "for season in episode_names_high_ratings:\n",
    "    print(f\"season {season} \")\n",
    "    for episode in episode_names_high_ratings[season]:\n",
    "        print(episode)\n",
    "    print()"
   ]
  },
  {
   "cell_type": "code",
   "execution_count": 35,
   "id": "01173dba",
   "metadata": {},
   "outputs": [
    {
     "name": "stdout",
     "output_type": "stream",
     "text": [
      "Episodes aired before May 2019:\n",
      "The Original\n",
      "Chestnut\n",
      "The Stray\n",
      "Dissonance Theory\n",
      "Contrapasso\n",
      "The Adversary\n",
      "Trompe L'Oeil\n",
      "Trace Decay\n",
      "The Well-Tempered Clavier\n",
      "The Bicameral Mind\n",
      "Journey Into Night\n",
      "Reunion\n",
      "Virtù e Fortuna\n",
      "The Riddle of the Sphinx\n",
      "Akane No Mai\n",
      "Phase Space\n",
      "Les Écorchés\n",
      "Kiksuya\n",
      "Vanishing Point\n",
      "The Passenger\n"
     ]
    }
   ],
   "source": [
    "#● Get all the episode names that aired before May 2019\n",
    "\n",
    "episodes_before_2019 = [episode['name'] for episode in data['_embedded']['episodes'] if\n",
    "                        episode['airdate'] < '2019-05-01']\n",
    "\n",
    "\n",
    "print(\"Episodes aired before May 2019:\")\n",
    "for episode in episodes_before_2019:\n",
    "    print(episode)"
   ]
  },
  {
   "cell_type": "code",
   "execution_count": 36,
   "id": "20cd5508",
   "metadata": {},
   "outputs": [],
   "source": [
    "# ● Get the episode name from each season with the highest and lowest rating\n",
    "highest_rated_episodes = {}\n",
    "lowest_rated_episodes = {}\n",
    "for season in season_ratings:\n",
    "    ratings = season_ratings[season]\n",
    "    highest_rating = max(ratings)\n",
    "    lowest_rating = min(ratings)\n",
    "    highest_rated_episodes[season] = [episode['name'] for episode in data['_embedded']['episodes'] if\n",
    "                                      episode['season'] == season and float(episode['rating']['average']) == highest_rating]\n",
    "    lowest_rated_episodes[season] = [episode['name'] for episode in data['_embedded']['episodes'] if\n",
    "                                     episode['season'] == season and float(episode['rating']['average']) == lowest_rating]"
   ]
  },
  {
   "cell_type": "code",
   "execution_count": 41,
   "id": "57cf97bb",
   "metadata": {},
   "outputs": [
    {
     "name": "stdout",
     "output_type": "stream",
     "text": [
      "Season 1 - Highest-rated episode:\n",
      "The Bicameral Mind\n",
      "Season 1 - Lowest-rated episode:\n",
      "The Stray\n",
      "\n",
      "Season 2 - Highest-rated episode:\n",
      "Kiksuya\n",
      "Season 2 - Lowest-rated episode:\n",
      "Akane No Mai\n",
      "\n",
      "Season 3 - Highest-rated episode:\n",
      "Parce Domine\n",
      "Season 3 - Lowest-rated episode:\n",
      "Decoherence\n",
      "\n",
      "Season 4 - Highest-rated episode:\n",
      "Zhuangzi\n",
      "Season 4 - Lowest-rated episode:\n",
      "The Auguries\n",
      "\n"
     ]
    }
   ],
   "source": [
    "for season in highest_rated_episodes:\n",
    "    print(f\"Season {season} - Highest-rated episode:\")\n",
    "    print(highest_rated_episodes[season][0])\n",
    "    print(f\"Season {season} - Lowest-rated episode:\")\n",
    "    print(lowest_rated_episodes[season][0])\n",
    "    print()"
   ]
  },
  {
   "cell_type": "code",
   "execution_count": 43,
   "id": "5d12989a",
   "metadata": {},
   "outputs": [],
   "source": [
    "#● Get the summary for the most popular ( ratings ) episode in every season\n",
    "most_popular_summary_per_season = {}\n",
    "for season in season_ratings:\n",
    "    ratings = season_ratings[season]\n",
    "    highest_rating = max(ratings)\n",
    "    most_popular_summary_per_season[season] = [episode['summary'] for episode in data['_embedded']['episodes'] if\n",
    "                                     episode['season'] == season and float(episode['rating']['average'])==highest_rating]\n"
   ]
  },
  {
   "cell_type": "code",
   "execution_count": 48,
   "id": "48543b7e",
   "metadata": {},
   "outputs": [
    {
     "name": "stdout",
     "output_type": "stream",
     "text": [
      "season 1 most popular summary \n",
      "<p>Delores finds out the truth about William's fate. Meanwhile, Maeve organizes an escape plan, only to discover that someone else is pulling the strings. And Robert plays the final piece in his grand narrative.</p>\n",
      "\n",
      "season 2 most popular summary \n",
      "<p>Another of Westworld's Host revolutionaries is revealed. Meanwhile, Emily finds the Man and convinces the Ghost Nation to hand him over to her to ensure his suffering.</p>\n",
      "\n",
      "season 3 most popular summary \n",
      "<p>If you're stuck in a loop, try walking in a straight line.</p>\n",
      "\n",
      "season 4 most popular summary \n",
      "<p>God is bored.</p>\n",
      "\n"
     ]
    }
   ],
   "source": [
    "for season in most_popular_summary_per_season:\n",
    "    print(f\"season {season} most popular summary \")\n",
    "    print(most_popular_summary_per_season[season][0])\n",
    "    print()"
   ]
  },
  {
   "cell_type": "code",
   "execution_count": null,
   "id": "8981c122",
   "metadata": {},
   "outputs": [],
   "source": []
  }
 ],
 "metadata": {
  "kernelspec": {
   "display_name": "Python 3 (ipykernel)",
   "language": "python",
   "name": "python3"
  },
  "language_info": {
   "codemirror_mode": {
    "name": "ipython",
    "version": 3
   },
   "file_extension": ".py",
   "mimetype": "text/x-python",
   "name": "python",
   "nbconvert_exporter": "python",
   "pygments_lexer": "ipython3",
   "version": "3.10.9"
  }
 },
 "nbformat": 4,
 "nbformat_minor": 5
}
