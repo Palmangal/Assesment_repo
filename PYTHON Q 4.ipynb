{
 "cells": [
  {
   "cell_type": "code",
   "execution_count": 2,
   "id": "a2e70161",
   "metadata": {},
   "outputs": [],
   "source": [
    "import requests\n",
    "import json\n",
    "import csv\n",
    "import pandas as pd\n",
    "\n",
    "def download_and_convert_data_csv(url,output_file):\n",
    "    # download the data from the provided link\n",
    "    response = requests.get(url)\n",
    "    data = response.json()\n",
    "    \n",
    "    #Covert the data into a properly structure Dataframe\n",
    "    df = pd.DataFrame(data)\n",
    "    \n",
    "    #save the dataFrame to an csv file\n",
    "    df.to_csv(output_file , index = False)\n",
    "    \n",
    "    \n",
    "    print(f\"Data has been successfully converted and saved to {output_file} .\")\n",
    "   \n",
    "\n"
   ]
  },
  {
   "cell_type": "code",
   "execution_count": 4,
   "id": "4251cdd1",
   "metadata": {},
   "outputs": [
    {
     "name": "stdout",
     "output_type": "stream",
     "text": [
      "Data has been successfully converted and saved to exam.csv .\n"
     ]
    }
   ],
   "source": [
    "# Example usage\n",
    "url = 'https://data.nasa.gov/resource/y77d-th95.json'\n",
    "output_file = \"exam.csv\" # specify the output file name\n",
    "\n",
    "download_and_convert_data_csv(url , output_file)"
   ]
  }
 ],
 "metadata": {
  "kernelspec": {
   "display_name": "Python 3 (ipykernel)",
   "language": "python",
   "name": "python3"
  },
  "language_info": {
   "codemirror_mode": {
    "name": "ipython",
    "version": 3
   },
   "file_extension": ".py",
   "mimetype": "text/x-python",
   "name": "python",
   "nbconvert_exporter": "python",
   "pygments_lexer": "ipython3",
   "version": "3.10.9"
  }
 },
 "nbformat": 4,
 "nbformat_minor": 5
}
