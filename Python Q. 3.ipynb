{
 "cells": [
  {
   "cell_type": "code",
   "execution_count": null,
   "id": "b4ff84dc",
   "metadata": {},
   "outputs": [],
   "source": [
    "Write a program, which would download the data from the provided link, and then read the data and convert\n",
    "that into properly structured data and return it in Excel format."
   ]
  },
  {
   "cell_type": "code",
   "execution_count": 3,
   "id": "3827382f",
   "metadata": {},
   "outputs": [],
   "source": [
    "import requests\n",
    "import pandas as pd"
   ]
  },
  {
   "cell_type": "code",
   "execution_count": 15,
   "id": "225f484e",
   "metadata": {},
   "outputs": [],
   "source": [
    "def download_and_convert_data(url, output_file):\n",
    "    # Download the data from the provided link\n",
    "    response = requests.get(url)\n",
    "    data= response.json()\n",
    "    \n",
    "    \n",
    "    df = pd.DataFrame(data)\n",
    "    \n",
    "    df.to_excel(output_file, index = False)\n",
    "    \n",
    "    print(f\"Data has been successfully converted and saved to {output_file} .\")\n",
    "        "
   ]
  },
  {
   "cell_type": "code",
   "execution_count": 16,
   "id": "d6e89ab2",
   "metadata": {},
   "outputs": [
    {
     "name": "stdout",
     "output_type": "stream",
     "text": [
      "Data has been successfully converted and saved to data.xlsx .\n"
     ]
    }
   ],
   "source": [
    "# Example usage\n",
    "url = 'https://raw.githubusercontent.com/Biuni/PokemonGO-Pokedex/master/pokedex.json'\n",
    "output_file = \"data.xlsx\"\n",
    "\n",
    "download_and_convert_data(url , output_file)"
   ]
  }
 ],
 "metadata": {
  "kernelspec": {
   "display_name": "Python 3 (ipykernel)",
   "language": "python",
   "name": "python3"
  },
  "language_info": {
   "codemirror_mode": {
    "name": "ipython",
    "version": 3
   },
   "file_extension": ".py",
   "mimetype": "text/x-python",
   "name": "python",
   "nbconvert_exporter": "python",
   "pygments_lexer": "ipython3",
   "version": "3.10.9"
  }
 },
 "nbformat": 4,
 "nbformat_minor": 5
}
