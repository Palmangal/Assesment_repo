{
 "cells": [
  {
   "cell_type": "code",
   "execution_count": 1,
   "id": "f22f9b40",
   "metadata": {},
   "outputs": [],
   "source": [
    "from scipy.stats import wilcoxon\n",
    "\n",
    "\n"
   ]
  },
  {
   "cell_type": "code",
   "execution_count": 2,
   "id": "db249e5c",
   "metadata": {},
   "outputs": [],
   "source": [
    "before = [10,8,12,15,6,9,11,7,14,10]\n",
    "after = [7,6,10,12,5,8,9,6,12,8]\n",
    "\n"
   ]
  },
  {
   "cell_type": "code",
   "execution_count": 3,
   "id": "0af7e31e",
   "metadata": {},
   "outputs": [
    {
     "name": "stdout",
     "output_type": "stream",
     "text": [
      "Wilcoxon Signed-Rank Test\n",
      "Statistic: 0.0\n",
      "p-value: 0.001953125\n"
     ]
    }
   ],
   "source": [
    "\n",
    "statistic, p_value = wilcoxon(before, after)\n",
    "\n",
    "# Print the results\n",
    "print(\"Wilcoxon Signed-Rank Test\")\n",
    "print(\"Statistic:\", statistic)\n",
    "print(\"p-value:\", p_value)"
   ]
  },
  {
   "cell_type": "code",
   "execution_count": 5,
   "id": "c240b96a",
   "metadata": {},
   "outputs": [
    {
     "name": "stdout",
     "output_type": "stream",
     "text": [
      "there is a significant difference between the anxiety levels before and after the therapy.\n"
     ]
    }
   ],
   "source": [
    "if(p_value < 0.05):\n",
    "    print(\"there is a significant difference between the anxiety levels before and after the therapy.\")\n",
    "else :\n",
    "    print(\"there is a no significant difference between the anxiety levels before and after the therapy.\")"
   ]
  },
  {
   "cell_type": "code",
   "execution_count": null,
   "id": "4eac0ce7",
   "metadata": {},
   "outputs": [],
   "source": []
  }
 ],
 "metadata": {
  "kernelspec": {
   "display_name": "Python 3 (ipykernel)",
   "language": "python",
   "name": "python3"
  },
  "language_info": {
   "codemirror_mode": {
    "name": "ipython",
    "version": 3
   },
   "file_extension": ".py",
   "mimetype": "text/x-python",
   "name": "python",
   "nbconvert_exporter": "python",
   "pygments_lexer": "ipython3",
   "version": "3.10.9"
  }
 },
 "nbformat": 4,
 "nbformat_minor": 5
}
