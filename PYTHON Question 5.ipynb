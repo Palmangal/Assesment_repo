{
 "cells": [
  {
   "cell_type": "code",
   "execution_count": null,
   "id": "d6e72d81",
   "metadata": {},
   "outputs": [],
   "source": [
    "Write a program to download the data from the given API link and then extract the following data with\n",
    "proper formatting\n",
    "\n",
    "Link - http://api.tvmaze.com/singlesearch/shows?q=westworld&embed=episodes"
   ]
  },
  {
   "cell_type": "code",
   "execution_count": 3,
   "id": "91727bd4",
   "metadata": {},
   "outputs": [],
   "source": [
    "import requests\n",
    "import json\n",
    "\n",
    "def download_data_from_API(url):\n",
    "    response = requests.get(url)\n",
    "    if response.status_code == 200:\n",
    "        return response.json()\n",
    "    else:\n",
    "        print(\"Failed to download data.\")\n",
    "        return None\n",
    "\n",
    "def extract_data(data):\n",
    "    if data is not None:\n",
    "        show_title = data['name']\n",
    "        show_language = data['language']\n",
    "        show_genre = data['genres']\n",
    "        episode_count = len(data['_embedded']['episodes'])\n",
    "\n",
    "        print(\"Show Title:\", show_title)\n",
    "        print(\"Language:\", show_language)\n",
    "        print(\"Genre:\", ', '.join(show_genre))\n",
    "        print(\"Number of Episodes:\", episode_count)\n",
    "\n"
   ]
  },
  {
   "cell_type": "code",
   "execution_count": 4,
   "id": "ff59ec9e",
   "metadata": {},
   "outputs": [
    {
     "name": "stdout",
     "output_type": "stream",
     "text": [
      "Show Title: Westworld\n",
      "Language: English\n",
      "Genre: Drama, Science-Fiction, Western\n",
      "Number of Episodes: 36\n"
     ]
    }
   ],
   "source": [
    "# Download the data from the API\n",
    "url = 'http://api.tvmaze.com/singlesearch/shows?q=westworld&embed=episodes'\n",
    "data = download_data_from_API(url)\n",
    "\n",
    "# Extract and format the required data\n",
    "if data is not None:\n",
    "    extract_data(data)\n"
   ]
  },
  {
   "cell_type": "code",
   "execution_count": null,
   "id": "0473ce44",
   "metadata": {},
   "outputs": [],
   "source": []
  }
 ],
 "metadata": {
  "kernelspec": {
   "display_name": "Python 3 (ipykernel)",
   "language": "python",
   "name": "python3"
  },
  "language_info": {
   "codemirror_mode": {
    "name": "ipython",
    "version": 3
   },
   "file_extension": ".py",
   "mimetype": "text/x-python",
   "name": "python",
   "nbconvert_exporter": "python",
   "pygments_lexer": "ipython3",
   "version": "3.10.9"
  }
 },
 "nbformat": 4,
 "nbformat_minor": 5
}
