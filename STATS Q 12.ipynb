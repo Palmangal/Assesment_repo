{
 "cells": [
  {
   "cell_type": "code",
   "execution_count": 2,
   "id": "6111253a",
   "metadata": {},
   "outputs": [],
   "source": [
    "import math\n",
    "from scipy.stats import t\n",
    "\n"
   ]
  },
  {
   "cell_type": "code",
   "execution_count": 3,
   "id": "c845c84a",
   "metadata": {},
   "outputs": [],
   "source": [
    "mean_A = 2.5\n",
    "std_dev_A = 0.8\n",
    "n_A = 30\n",
    "\n",
    "mean_B = 2.2\n",
    "std_dev_B = 0.6\n",
    "n_B = 30\n",
    "\n"
   ]
  },
  {
   "cell_type": "code",
   "execution_count": 4,
   "id": "70c88bfd",
   "metadata": {},
   "outputs": [],
   "source": [
    "\n",
    "t_statistic = (mean_A - mean_B) / math.sqrt((std_dev_A**2/n_A) + (std_dev_B**2/n_B))\n",
    "df = n_A + n_B - 2\n",
    "\n"
   ]
  },
  {
   "cell_type": "code",
   "execution_count": 5,
   "id": "f9211cb9",
   "metadata": {},
   "outputs": [],
   "source": [
    "# Critical t-value for alpha=0.05 (two-tailed test)\n",
    "critical_t = t.ppf(1 - 0.05/2, df)\n",
    "\n",
    "\n"
   ]
  },
  {
   "cell_type": "code",
   "execution_count": 6,
   "id": "d09b5f44",
   "metadata": {},
   "outputs": [
    {
     "name": "stdout",
     "output_type": "stream",
     "text": [
      "Fail to reject the null hypothesis.\n"
     ]
    }
   ],
   "source": [
    "# Compare t-statistic with critical t-value\n",
    "if t_statistic > critical_t:\n",
    "    print(\"Reject the null hypothesis.\")\n",
    "else:\n",
    "    print(\"Fail to reject the null hypothesis.\")"
   ]
  },
  {
   "cell_type": "code",
   "execution_count": null,
   "id": "169c3b67",
   "metadata": {},
   "outputs": [],
   "source": []
  },
  {
   "cell_type": "code",
   "execution_count": null,
   "id": "c5a1a2ad",
   "metadata": {},
   "outputs": [],
   "source": []
  }
 ],
 "metadata": {
  "kernelspec": {
   "display_name": "Python 3 (ipykernel)",
   "language": "python",
   "name": "python3"
  },
  "language_info": {
   "codemirror_mode": {
    "name": "ipython",
    "version": 3
   },
   "file_extension": ".py",
   "mimetype": "text/x-python",
   "name": "python",
   "nbconvert_exporter": "python",
   "pygments_lexer": "ipython3",
   "version": "3.10.9"
  }
 },
 "nbformat": 4,
 "nbformat_minor": 5
}
