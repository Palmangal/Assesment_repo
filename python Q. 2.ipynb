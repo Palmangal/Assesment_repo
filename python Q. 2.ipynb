{
 "cells": [
  {
   "cell_type": "code",
   "execution_count": 129,
   "id": "50dc4911",
   "metadata": {},
   "outputs": [],
   "source": [
    "def is_valid_string(s):\n",
    "    # Count the frequency of each character\n",
    "    char_count = {}\n",
    "    for char in s:\n",
    "        char_count[char] = char_count.get(char, 0) + 1\n",
    "\n",
    "    \n",
    "    # Create a set of unique frequencies\n",
    "    freq_set = set(char_count.values())\n",
    "    #print(freq_set)\n",
    "\n",
    "    # If all characters have the same frequency, it's a valid string\n",
    "    if len(freq_set) == 1:\n",
    "        return \"YES\"\n",
    "\n",
    "    # If there are more than two unique frequencies, it's not valid\n",
    "    elif len(freq_set) > 2:\n",
    "        return \"NO\"\n",
    "     # If there are exactly two unique frequencies, check if removing one character can make it valid\n",
    "    elif len(freq_set) ==2:\n",
    "        freq_list = list(freq_set)\n",
    "        if (freq_list[0] == 1 and char_count.values().count(freq_list[0]) == 1) or (freq_list[1] == 1 and char_count.values().count(freq_list[1]) == 1):\n",
    "            return \"YES1\"\n",
    "\n",
    "    return \"NO1\""
   ]
  },
  {
   "cell_type": "code",
   "execution_count": 130,
   "id": "06883bc4",
   "metadata": {},
   "outputs": [
    {
     "name": "stdout",
     "output_type": "stream",
     "text": [
      "1 YES\n"
     ]
    }
   ],
   "source": [
    "input_str = \"aabbcc\"\n",
    "result = is_valid_string(input_str)\n",
    "print(\"1\",result)  # Output: YES\n",
    "\n"
   ]
  },
  {
   "cell_type": "code",
   "execution_count": 131,
   "id": "f1644e81",
   "metadata": {},
   "outputs": [
    {
     "name": "stdout",
     "output_type": "stream",
     "text": [
      "2 NO\n"
     ]
    }
   ],
   "source": [
    "input_str = \"aabbbc\"\n",
    "result = is_valid_string(input_str)\n",
    "print(\"2\",result)  # Output: YES\n",
    "\n"
   ]
  },
  {
   "cell_type": "code",
   "execution_count": 132,
   "id": "25813a68",
   "metadata": {},
   "outputs": [
    {
     "name": "stdout",
     "output_type": "stream",
     "text": [
      "3 NO1\n"
     ]
    }
   ],
   "source": [
    "input_str = \"aabbccc\"\n",
    "result = is_valid_string(input_str)\n",
    "print(\"3\",result)  # Output: NO"
   ]
  },
  {
   "cell_type": "code",
   "execution_count": null,
   "id": "f2e320f3",
   "metadata": {},
   "outputs": [],
   "source": []
  }
 ],
 "metadata": {
  "kernelspec": {
   "display_name": "Python 3 (ipykernel)",
   "language": "python",
   "name": "python3"
  },
  "language_info": {
   "codemirror_mode": {
    "name": "ipython",
    "version": 3
   },
   "file_extension": ".py",
   "mimetype": "text/x-python",
   "name": "python",
   "nbconvert_exporter": "python",
   "pygments_lexer": "ipython3",
   "version": "3.10.9"
  }
 },
 "nbformat": 4,
 "nbformat_minor": 5
}
